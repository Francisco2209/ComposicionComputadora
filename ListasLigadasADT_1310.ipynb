{
  "nbformat": 4,
  "nbformat_minor": 0,
  "metadata": {
    "colab": {
      "name": "ListasLigadasADT_1310.ipynb",
      "provenance": [],
      "authorship_tag": "ABX9TyM89vHQlIaKfR01SPWOD9uo",
      "include_colab_link": true
    },
    "kernelspec": {
      "name": "python3",
      "display_name": "Python 3"
    },
    "language_info": {
      "name": "python"
    }
  },
  "cells": [
    {
      "cell_type": "markdown",
      "metadata": {
        "id": "view-in-github",
        "colab_type": "text"
      },
      "source": [
        "<a href=\"https://colab.research.google.com/github/Francisco2209/ComposicionComputadora/blob/main/ListasLigadasADT_1310.ipynb\" target=\"_parent\"><img src=\"https://colab.research.google.com/assets/colab-badge.svg\" alt=\"Open In Colab\"/></a>"
      ]
    },
    {
      "cell_type": "markdown",
      "metadata": {
        "id": "3oMBG0AW0lyh"
      },
      "source": [
        "# Ejercicos con la clase Nodo\n",
        "\n",
        "- Crear un nodo 10\n",
        "    - Imprimir el valor del no\n",
        "- Crear dos nodos 10 , 20 \n",
        "    - Imprimir el valor del primero\n",
        "    - Imprimir el valor del segundo\n",
        "    - Transversal\n",
        "- Lo mismo ero con 4 Nodos 10,20,30,40\n",
        "    - Imprimir el valor del primero\n",
        "    - Imprimir el valor del segundo\n",
        "    - Transversal\n",
        "    - Insertar del nodo 25. despues del nodo 20 y antes del nodo 30\n",
        "\n",
        "### Todo esto antes de ir a la estructura formal del ADT Lista Ligada"
      ]
    },
    {
      "cell_type": "code",
      "metadata": {
        "id": "PbcyYq5O0XTU"
      },
      "source": [
        "class Nodo:\n",
        "    def __init__( self , value , siguiente = None ):\n",
        "        self.data = value\n",
        "        self.next = siguiente"
      ],
      "execution_count": 26,
      "outputs": []
    },
    {
      "cell_type": "code",
      "metadata": {
        "id": "jL_3slZj14bs",
        "colab": {
          "base_uri": "https://localhost:8080/"
        },
        "outputId": "5821233e-46fd-42ef-9520-fcdef305b658"
      },
      "source": [
        "head = Nodo( 10 )\n",
        "print( head.data )\n"
      ],
      "execution_count": 27,
      "outputs": [
        {
          "output_type": "stream",
          "name": "stdout",
          "text": [
            "10\n"
          ]
        }
      ]
    },
    {
      "cell_type": "code",
      "metadata": {
        "id": "04Z0hjt62fua",
        "colab": {
          "base_uri": "https://localhost:8080/"
        },
        "outputId": "2727a0ff-5d5f-4f3f-9230-719c7912d8f1"
      },
      "source": [
        "head = Nodo( 10 )\n",
        "head.next = Nodo( 20 ) \n",
        "print( f\"Primero = {head.data}\")\n",
        "print( f\"Segundo = {head.next.data}\")\n",
        "\n",
        "#lo mismo pero ahorrando codigo\n",
        "head = Nodo( 10 , Nodo(20) )\n",
        "print( f\"Primero = {head.data}\")\n",
        "print( f\"Segundo = {head.next.data}\")\n",
        "\n",
        "#transversal\n",
        "curr_node = head\n",
        "while curr_node != None:\n",
        "    print(f\"| {curr_node.data} | --> \", end=\"\")\n",
        "    curr_node = curr_node.next\n",
        "print(\"\")\n",
        "\n"
      ],
      "execution_count": 28,
      "outputs": [
        {
          "output_type": "stream",
          "name": "stdout",
          "text": [
            "Primero = 10\n",
            "Segundo = 20\n",
            "Primero = 10\n",
            "Segundo = 20\n",
            "| 10 | --> | 20 | --> \n"
          ]
        }
      ]
    },
    {
      "cell_type": "code",
      "metadata": {
        "colab": {
          "base_uri": "https://localhost:8080/"
        },
        "id": "rnRN-0Is64Yk",
        "outputId": "db436f17-b8b4-455a-8f09-829c65d34f8b"
      },
      "source": [
        "head = Nodo( 10 , Nodo(20, Nodo(30 , Nodo(40) )))\n",
        "# Nodo( valor, siguiente)\n",
        "#Transversal\n",
        "curr_node = head\n",
        "while curr_node != None:\n",
        "    print(f\"| {curr_node.data} | --> \", end=\"\")\n",
        "    curr_node = curr_node.next\n",
        "print(\"\")\n",
        "\n",
        "# imprimir el primero\n",
        "print(head.data)\n",
        "\n",
        "#imprimir el ultimo\n",
        "curr_node = head\n",
        "while curr_node.next != None:\n",
        "    curr_node = curr_node.next\n",
        "print( curr_node.data )\n",
        "\n",
        "#Insertar del nodo 25. despues del nodo 20 y antes del nodo 30\n",
        "curr_node = head\n",
        "while curr_node.data != 20:\n",
        "    curr_node = curr_node.next\n",
        "print(curr_node.data)\n",
        "\n",
        "#crear el nodo 25\n",
        "curr_node.next = Nodo( 25 , curr_node.next )\n",
        "print(\"Despues de insertar 25\")\n",
        "#Transversal\n",
        "curr_node = head\n",
        "while curr_node != None:\n",
        "    print(f\"| {curr_node.data} | --> \", end=\"\")\n",
        "    curr_node = curr_node.next\n",
        "print(\"\")\n"
      ],
      "execution_count": 29,
      "outputs": [
        {
          "output_type": "stream",
          "name": "stdout",
          "text": [
            "| 10 | --> | 20 | --> | 30 | --> | 40 | --> \n",
            "10\n",
            "40\n",
            "20\n",
            "Despues de insertar 25\n",
            "| 10 | --> | 20 | --> | 25 | --> | 30 | --> | 40 | --> \n"
          ]
        }
      ]
    },
    {
      "cell_type": "code",
      "metadata": {
        "id": "80BWgx3GczNq"
      },
      "source": [
        "class LinkedList:\n",
        "    def __init__( self ):\n",
        "        self.head = None\n",
        "\n",
        "    def is_empty( self ): #true o false\n",
        "        return self.head == None\n",
        "\n",
        "    def get_tail( self ):\n",
        "        if self.is_empty():\n",
        "            return None\n",
        "        else:\n",
        "            curr_node = self.head\n",
        "            while curr_node.next != None:\n",
        "                curr_node = curr_node.next\n",
        "            return curr_node\n",
        "\n",
        "    def append( self , value ):\n",
        "        if self.head == None:\n",
        "            self.head = Nodo( value )\n",
        "        else:\n",
        "            curr_node = self.head\n",
        "            while curr_node.next != None:\n",
        "                curr_node = curr_node.next\n",
        "            curr_node.next = Nodo(value)\n",
        "\n",
        "    def transversal( self ):\n",
        "        curr_node = self.head\n",
        "        while curr_node != None:\n",
        "            print( f\"| { curr_node.data } | -->\" , end=\"\" )\n",
        "            curr_node = curr_node.next\n",
        "        print(\"\")\n",
        "\n",
        "    def remove( self , value ):\n",
        "        if self.head == None:\n",
        "            print(\"Lista vacia. no se puede hacer nada\")\n",
        "        else:\n",
        "            curr_node = self.head\n",
        "            aux = None\n",
        "            while curr_node.data != value: # revisar cuando el valor no exista\n",
        "                aux = curr_node\n",
        "                curr_node = curr_node.next\n",
        "            \n",
        "            if curr_node != None:\n",
        "                aux.next = curr_node.next\n",
        "                curr_node = None\n",
        "\n",
        "    def preppend( self, value ):\n",
        "        if self.head == None:\n",
        "            print(\"Lista vacia. no se puede hacer Preppend\")\n",
        "        else:\n",
        "            aux = self.head\n",
        "            self.head = Nodo( value , aux )\n",
        "\n",
        "\n",
        "    \n",
        "\n",
        "\n"
      ],
      "execution_count": 51,
      "outputs": []
    },
    {
      "cell_type": "code",
      "metadata": {
        "colab": {
          "base_uri": "https://localhost:8080/"
        },
        "id": "rYz2GL0DfcBd",
        "outputId": "2d0ebeed-4a19-49db-8966-989cbc8e70b9"
      },
      "source": [
        "lista = LinkedList()\n",
        "if lista.is_empty():\n",
        "    print(\"La lista está vacia\")\n",
        "else:\n",
        "    print(\"La lista NO está vacia\")\n",
        "\n",
        "lista.append(10)\n",
        "lista.append(20)\n",
        "lista.append(30)\n",
        "lista.append(40)\n",
        "lista.append(50)\n",
        "\n",
        "nodo = lista.get_tail()\n",
        "if nodo != None:\n",
        "    print( nodo.data )\n",
        "else:\n",
        "    print( \"Lista está vacia\")\n",
        "\n",
        "lista.transversal()\n",
        "lista.remove(30)\n",
        "lista.transversal()\n",
        "lista.preppend(5)\n",
        "print( \"despues del preppend\")\n",
        "lista.transversal()\n",
        "\n"
      ],
      "execution_count": 53,
      "outputs": [
        {
          "output_type": "stream",
          "name": "stdout",
          "text": [
            "La lista está vacia\n",
            "50\n",
            "| 10 | -->| 20 | -->| 30 | -->| 40 | -->| 50 | -->\n",
            "| 10 | -->| 20 | -->| 40 | -->| 50 | -->\n",
            "despues del preppend\n",
            "| 5 | -->| 10 | -->| 20 | -->| 40 | -->| 50 | -->\n"
          ]
        }
      ]
    }
  ]
}